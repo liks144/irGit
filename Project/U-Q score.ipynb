{
 "cells": [
  {
   "cell_type": "code",
   "execution_count": null,
   "metadata": {},
   "outputs": [],
   "source": [
    "# data是最后实际训练要用的那个大的数据集\n",
    "# 连接了 回答集-问题集\n",
    "#      用户-问题-问题涉及话题"
   ]
  },
  {
   "cell_type": "code",
   "execution_count": null,
   "metadata": {},
   "outputs": [],
   "source": [
    "# 这个 都记住这是按列操作就好了"
   ]
  },
  {
   "cell_type": "code",
   "execution_count": null,
   "metadata": {},
   "outputs": [],
   "source": [
    "# 遍历用户-回答\n",
    "# 每一条回答，用用户id建一条item，值是一个_字典_ ，如果key重复就把话题集合并，原来有的+1 没有的新建一项值为1"
   ]
  },
  {
   "cell_type": "code",
   "execution_count": null,
   "metadata": {},
   "outputs": [],
   "source": [
    "def to_array(df,x):\n",
    "    col=df.iloc[:,x]\n",
    "    #取表中的第x+1列的所有值\n",
    "    arr =list(col.values)\n",
    "    return arr"
   ]
  },
  {
   "cell_type": "code",
   "execution_count": null,
   "metadata": {},
   "outputs": [],
   "source": [
    "def static(usrList,tpcList):\n",
    "# 统计 用户-回答涉及话题\n",
    "    member_topic = {}\n",
    "    for user,topicraw in zip(usrList,tpcList): #这里用的还是dataframe\n",
    "        if topicraw == '-1':\n",
    "            pass\n",
    "        else:\n",
    "            list = topicraw.split(\",\")\n",
    "            if user in member_topic:\n",
    "                for i in list:\n",
    "                    if i in member_topic[user]:\n",
    "                        member_topic[user][i] += 1;\n",
    "                    else:\n",
    "                        member_topic[user][i] = 1;\n",
    "            else:\n",
    "                member_topic[user] = dict(zip(list,[1]*len(list)))\n",
    "    return member_topic\n",
    "# 返回一个字典"
   ]
  },
  {
   "cell_type": "code",
   "execution_count": null,
   "metadata": {},
   "outputs": [],
   "source": [
    "def score(userid,quesid):\n",
    "#     传进userid和对应行的 涉及话题字符串 （就是要转成array的那两列）\n",
    "#     用static统计出来的member_topic给每个U-Q打分\n",
    "    global member_topic\n",
    "    global question_topic\n",
    "    \n",
    "    topic_set = question_topic[quesid]\n",
    "    score = 0\n",
    "    \n",
    "    if userid not in member_topic:\n",
    "        return 0\n",
    "    else if topic_raw == :\n",
    "        return 0\n",
    "    else:\n",
    "        list = topic_raw.split(\",\")\n",
    "        for i in list:\n",
    "            if i in member_topic[userid]:\n",
    "                score += member_topic[userid][i]\n",
    "        return score"
   ]
  },
  {
   "cell_type": "code",
   "execution_count": null,
   "metadata": {},
   "outputs": [],
   "source": []
  }
 ],
 "metadata": {
  "kernelspec": {
   "display_name": "Python 3",
   "language": "python",
   "name": "python3"
  },
  "language_info": {
   "codemirror_mode": {
    "name": "ipython",
    "version": 3
   },
   "file_extension": ".py",
   "mimetype": "text/x-python",
   "name": "python",
   "nbconvert_exporter": "python",
   "pygments_lexer": "ipython3",
   "version": "3.7.4"
  }
 },
 "nbformat": 4,
 "nbformat_minor": 2
}
