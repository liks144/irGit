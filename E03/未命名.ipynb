{
 "cells": [
  {
   "cell_type": "code",
   "execution_count": 18,
   "metadata": {},
   "outputs": [],
   "source": [
    "def text(infile,outfile):\n",
    "    infopen = open(infile,'r',encoding='utf-8')\n",
    "    outopen = open(outfile,'w',encoding='utf-8')\n",
    "    lines = infopen.readlines()\n",
    "    i = 1\n",
    "    for line in lines:\n",
    "        line = line.strip().split(\" \")\n",
    "        if line[0]==\"<num>\":\n",
    "            outopen.write(line[2] + \"\\t\")\n",
    "        elif line[0]==\"<query>\":\n",
    "            outopen.write(' '.join(line[1:-1]) + \"\\n\")\n",
    "#         print(line[:-1])\n",
    "    infopen.close()\n",
    "    outopen.close()"
   ]
  },
  {
   "cell_type": "code",
   "execution_count": 19,
   "metadata": {},
   "outputs": [],
   "source": [
    "text('/home/liks/Desktop/实验03/topics.desc.MB171-225.txt','/home/liks/Desktop/实验03/query.txt')"
   ]
  },
  {
   "cell_type": "code",
   "execution_count": null,
   "metadata": {},
   "outputs": [],
   "source": []
  }
 ],
 "metadata": {
  "kernelspec": {
   "display_name": "Python 3",
   "language": "python",
   "name": "python3"
  },
  "language_info": {
   "codemirror_mode": {
    "name": "ipython",
    "version": 3
   },
   "file_extension": ".py",
   "mimetype": "text/x-python",
   "name": "python",
   "nbconvert_exporter": "python",
   "pygments_lexer": "ipython3",
   "version": "3.7.3"
  }
 },
 "nbformat": 4,
 "nbformat_minor": 2
}
